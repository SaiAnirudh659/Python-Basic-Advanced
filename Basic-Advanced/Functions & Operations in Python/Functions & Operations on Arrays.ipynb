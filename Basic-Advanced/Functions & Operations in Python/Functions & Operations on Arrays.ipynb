{
 "cells": [
  {
   "cell_type": "code",
   "execution_count": 2,
   "id": "512832a7",
   "metadata": {},
   "outputs": [],
   "source": [
    "import numpy as np"
   ]
  },
  {
   "cell_type": "code",
   "execution_count": 5,
   "id": "b84a3550",
   "metadata": {},
   "outputs": [
    {
     "name": "stdout",
     "output_type": "stream",
     "text": [
      "[ 40  60  70 100 120]\n"
     ]
    }
   ],
   "source": [
    "arr1 = np.array([30,40,50,60,70])\n",
    "arr2 = np.array([10,20,20,40,50])\n",
    "\n",
    "print(arr1+arr2) # for printing the addition of arrays"
   ]
  },
  {
   "cell_type": "code",
   "execution_count": 6,
   "id": "da9d16bb",
   "metadata": {},
   "outputs": [
    {
     "name": "stdout",
     "output_type": "stream",
     "text": [
      "[ 40  60  70 100 120]\n"
     ]
    }
   ],
   "source": [
    "print(np.add(arr1,arr2)) #we can also add-up arrays using (np.add) function also"
   ]
  },
  {
   "cell_type": "code",
   "execution_count": 8,
   "id": "6cfa7edf",
   "metadata": {},
   "outputs": [
    {
     "name": "stdout",
     "output_type": "stream",
     "text": [
      "[[ 40  60]\n",
      " [ 70 100]]\n"
     ]
    }
   ],
   "source": [
    "arr1 = np.array([[30,40],[50,60]])\n",
    "arr2 = np.array([[10,20],[20,40]])\n",
    "\n",
    "print(arr1 + arr2) # if we pass seperate arrays and print them this will be the output"
   ]
  },
  {
   "cell_type": "code",
   "execution_count": 12,
   "id": "8b07ea24",
   "metadata": {},
   "outputs": [
    {
     "name": "stdout",
     "output_type": "stream",
     "text": [
      "[[20 20]\n",
      " [30 20]]\n",
      "\n",
      "\n",
      "[[20 20]\n",
      " [30 20]]\n"
     ]
    }
   ],
   "source": [
    "arr1 = np.array([[30,40],[50,60]])\n",
    "arr2 = np.array([[10,20],[20,40]])\n",
    "\n",
    "print(arr1 - arr2)\n",
    "print(\"\\n\")\n",
    "print(np.subtract(arr1,arr2)) # as the same way of addition we can also perform subtraction or difference between two arrays"
   ]
  },
  {
   "cell_type": "code",
   "execution_count": 15,
   "id": "ae77809d",
   "metadata": {},
   "outputs": [
    {
     "name": "stdout",
     "output_type": "stream",
     "text": [
      "[[ 300  800]\n",
      " [1000 2400]]\n",
      "\n",
      "\n",
      "[[ 300  800]\n",
      " [1000 2400]]\n"
     ]
    }
   ],
   "source": [
    "arr1 = np.array([[30,40],[50,60]])\n",
    "arr2 = np.array([[10,20],[20,40]])\n",
    "\n",
    "print(arr1 * arr2)\n",
    "print(\"\\n\")\n",
    "print(np.multiply(arr1,arr2)) # as the same way of addition we can also perform multiplication between two arrays"
   ]
  },
  {
   "cell_type": "code",
   "execution_count": 17,
   "id": "dc75ecd7",
   "metadata": {},
   "outputs": [
    {
     "name": "stdout",
     "output_type": "stream",
     "text": [
      "[[3.  2. ]\n",
      " [2.5 1.5]]\n",
      "\n",
      "\n",
      "[[3.  2. ]\n",
      " [2.5 1.5]]\n"
     ]
    }
   ],
   "source": [
    "arr1 = np.array([[30,40],[50,60]])\n",
    "arr2 = np.array([[10,20],[20,40]])\n",
    "\n",
    "print(arr1 / arr2)\n",
    "print(\"\\n\")\n",
    "print(np.divide(arr1,arr2)) # as the same way of addition we can also perform division between two arrays\n"
   ]
  },
  {
   "cell_type": "code",
   "execution_count": 23,
   "id": "7782f873",
   "metadata": {},
   "outputs": [
    {
     "name": "stdout",
     "output_type": "stream",
     "text": [
      "[ 9 16 25 36]\n"
     ]
    }
   ],
   "source": [
    "arr1 = np.array([3,4,5,6])\n",
    "arr2 = np.array([2])\n",
    "\n",
    "print(np.power(arr1,arr2)) # by this we can also perform power functions ex: (30 pw 3 is 27000)"
   ]
  },
  {
   "cell_type": "code",
   "execution_count": 24,
   "id": "6abd5fe6",
   "metadata": {},
   "outputs": [
    {
     "name": "stdout",
     "output_type": "stream",
     "text": [
      "[3. 4. 5. 6.]\n"
     ]
    }
   ],
   "source": [
    "arr1 = np.array([9,16,25,36])\n",
    "print(np.sqrt(arr1)) #in this way we can also perform square root in this it resulted in the form of float we can convert it using astype(int)"
   ]
  },
  {
   "cell_type": "code",
   "execution_count": null,
   "id": "8ebfe068",
   "metadata": {},
   "outputs": [],
   "source": []
  }
 ],
 "metadata": {
  "kernelspec": {
   "display_name": "Python 3 (ipykernel)",
   "language": "python",
   "name": "python3"
  },
  "language_info": {
   "codemirror_mode": {
    "name": "ipython",
    "version": 3
   },
   "file_extension": ".py",
   "mimetype": "text/x-python",
   "name": "python",
   "nbconvert_exporter": "python",
   "pygments_lexer": "ipython3",
   "version": "3.11.4"
  }
 },
 "nbformat": 4,
 "nbformat_minor": 5
}
