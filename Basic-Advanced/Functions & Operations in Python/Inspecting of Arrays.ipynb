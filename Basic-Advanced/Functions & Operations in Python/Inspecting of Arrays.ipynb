{
 "cells": [
  {
   "cell_type": "code",
   "execution_count": 8,
   "id": "e4822ea2",
   "metadata": {},
   "outputs": [
    {
     "name": "stdout",
     "output_type": "stream",
     "text": [
      "[[20 30 10]\n",
      " [40 50 10]]\n"
     ]
    }
   ],
   "source": [
    "import numpy as np\n",
    "\n",
    "a = [[20,30,10],[40,50,10]]\n",
    "arr = np.array(a)\n",
    "print(arr)"
   ]
  },
  {
   "cell_type": "code",
   "execution_count": 9,
   "id": "d6c10a1e",
   "metadata": {},
   "outputs": [
    {
     "name": "stdout",
     "output_type": "stream",
     "text": [
      "[[20 30 10]\n",
      " [40 50 10]]\n",
      "(2, 3)\n"
     ]
    }
   ],
   "source": [
    "#Functions to inspect the particular Array\n",
    "print(arr)\n",
    "print(arr.shape) # To determine the shape of the array 2 rows & 3 columns"
   ]
  },
  {
   "cell_type": "code",
   "execution_count": 10,
   "id": "1b5605c5",
   "metadata": {},
   "outputs": [
    {
     "name": "stdout",
     "output_type": "stream",
     "text": [
      "[[20 30 10]\n",
      " [40 50 10]]\n",
      "6\n"
     ]
    }
   ],
   "source": [
    "print(arr)\n",
    "print(arr.size) # To determine the size of the array which is 3+3"
   ]
  },
  {
   "cell_type": "code",
   "execution_count": 11,
   "id": "9737ec13",
   "metadata": {},
   "outputs": [
    {
     "name": "stdout",
     "output_type": "stream",
     "text": [
      "[[20 30 10]\n",
      " [40 50 10]]\n",
      "2\n"
     ]
    }
   ],
   "source": [
    "print(arr)\n",
    "print(arr.ndim) # (ndim) is nothing but it tells all about which dimensional array is it, in our case it is 2-dimensional array"
   ]
  },
  {
   "cell_type": "code",
   "execution_count": 12,
   "id": "9b6f30d5",
   "metadata": {},
   "outputs": [
    {
     "name": "stdout",
     "output_type": "stream",
     "text": [
      "[[20 30 10]\n",
      " [40 50 10]]\n",
      "2\n"
     ]
    }
   ],
   "source": [
    "print(arr)\n",
    "print(len(arr)) # it gives length of the array which says how many array's are there in the given thing, number of nested values"
   ]
  },
  {
   "cell_type": "code",
   "execution_count": 13,
   "id": "78efbc1d",
   "metadata": {},
   "outputs": [
    {
     "name": "stdout",
     "output_type": "stream",
     "text": [
      "[[20 30 10]\n",
      " [40 50 10]]\n",
      "int64\n"
     ]
    }
   ],
   "source": [
    "print(arr)\n",
    "print(arr.dtype)  # in this case it will give us the Data Type of the array but these two are the similar which gives us type of the array."
   ]
  },
  {
   "cell_type": "code",
   "execution_count": 15,
   "id": "2799c6cb",
   "metadata": {},
   "outputs": [
    {
     "name": "stdout",
     "output_type": "stream",
     "text": [
      "[[20 30 10]\n",
      " [40 50 10]]\n",
      "<class 'numpy.ndarray'>\n"
     ]
    }
   ],
   "source": [
    "print(arr)\n",
    "print(type(arr)) # In this case it will give the type of numpy array"
   ]
  },
  {
   "cell_type": "code",
   "execution_count": 23,
   "id": "aaeae689",
   "metadata": {},
   "outputs": [
    {
     "name": "stdout",
     "output_type": "stream",
     "text": [
      "before converting the array:  \n",
      " [[20 30 10]\n",
      " [40 50 10]]\n",
      "\n",
      "\n",
      "after converting the array:  \n",
      " [[20. 30. 10.]\n",
      " [40. 50. 10.]]\n",
      "\n",
      "\n",
      "<class 'numpy.ndarray'>\n"
     ]
    }
   ],
   "source": [
    "print(\"before converting the array: \", \"\\n\", arr)\n",
    "print(\"\\n\")\n",
    "print(\"after converting the array: \", \"\\n\", arr.astype(float)) # In this case it is actually converting the data type of array which is int (integer) to Float (decimal points).\n",
    "print(\"\\n\")\n",
    "print(type(arr))"
   ]
  }
 ],
 "metadata": {
  "kernelspec": {
   "display_name": "Python 3 (ipykernel)",
   "language": "python",
   "name": "python3"
  },
  "language_info": {
   "codemirror_mode": {
    "name": "ipython",
    "version": 3
   },
   "file_extension": ".py",
   "mimetype": "text/x-python",
   "name": "python",
   "nbconvert_exporter": "python",
   "pygments_lexer": "ipython3",
   "version": "3.11.4"
  }
 },
 "nbformat": 4,
 "nbformat_minor": 5
}
