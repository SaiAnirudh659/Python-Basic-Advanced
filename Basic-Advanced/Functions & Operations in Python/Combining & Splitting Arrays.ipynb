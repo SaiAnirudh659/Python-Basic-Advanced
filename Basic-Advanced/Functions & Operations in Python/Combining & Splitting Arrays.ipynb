{
 "cells": [
  {
   "cell_type": "code",
   "execution_count": 3,
   "id": "7ce7de62",
   "metadata": {},
   "outputs": [
    {
     "name": "stdout",
     "output_type": "stream",
     "text": [
      "[1 2 3 4 5 6]\n",
      "\n",
      "\n",
      "[ 2  5  8 11 13 15]\n"
     ]
    }
   ],
   "source": [
    "import numpy as np\n",
    "\n",
    "arr1 = np.array([1,2,3,4,5,6])\n",
    "arr2 = np.array([1,3,5,7,8,9])\n",
    "print(arr1) # here it is printing the array which is arr1\n",
    "print(\"\\n\")\n",
    "print(np.add(arr1,arr2))  # in arrays it is adding up whole arr1 and arr2"
   ]
  },
  {
   "cell_type": "code",
   "execution_count": 4,
   "id": "c2e8b684",
   "metadata": {},
   "outputs": [
    {
     "name": "stdout",
     "output_type": "stream",
     "text": [
      "(1, 2, 3, 4, 2, 3, 4, 5)\n"
     ]
    }
   ],
   "source": [
    "# while in lists when we add up (a+b) it actually concatenates or join's the two lists(a,b)\n",
    "a = (1,2,3,4)\n",
    "b = (2,3,4,5)\n",
    "print(a+b)"
   ]
  },
  {
   "cell_type": "code",
   "execution_count": 11,
   "id": "7d7816b2",
   "metadata": {},
   "outputs": [
    {
     "name": "stdout",
     "output_type": "stream",
     "text": [
      "[[1 2 3]\n",
      " [4 5 6]\n",
      " [1 3 5]\n",
      " [7 8 9]]\n"
     ]
    }
   ],
   "source": [
    "# in arrays we can also concatenate two arrays using (np.concatenate) function \n",
    "import numpy as np\n",
    "\n",
    "arr1 = np.array([[1,2,3],[4,5,6]])\n",
    "arr2 = np.array([[1,3,5],[7,8,9]])\n",
    "print(np.concatenate([arr1,arr2])) "
   ]
  },
  {
   "cell_type": "code",
   "execution_count": 18,
   "id": "5470aa98",
   "metadata": {},
   "outputs": [
    {
     "name": "stdout",
     "output_type": "stream",
     "text": [
      "[[1 2 3]\n",
      " [4 5 6]\n",
      " [1 3 5]\n",
      " [7 8 9]]\n"
     ]
    }
   ],
   "source": [
    "# axis is nothing but to concatenate the arrays of (arr1,arr2) in a vertical manner (method - 1)\n",
    "\n",
    "print(np.concatenate([arr1,arr2],axis = 0))"
   ]
  },
  {
   "cell_type": "code",
   "execution_count": 13,
   "id": "410f93b8",
   "metadata": {},
   "outputs": [
    {
     "name": "stdout",
     "output_type": "stream",
     "text": [
      "[[1 2 3 1 3 5]\n",
      " [4 5 6 7 8 9]]\n"
     ]
    }
   ],
   "source": [
    "# axis is nothing but to concatenate the arrays of (arr1,arr2) in a horizontal manner (method - 2)\n",
    "\n",
    "print(np.concatenate([arr1,arr2],axis = 1)) "
   ]
  },
  {
   "cell_type": "code",
   "execution_count": 16,
   "id": "77e0baea",
   "metadata": {},
   "outputs": [
    {
     "name": "stdout",
     "output_type": "stream",
     "text": [
      "[[1 2 3 1 3 5]\n",
      " [4 5 6 7 8 9]]\n"
     ]
    }
   ],
   "source": [
    "print(np.hstack([arr1,arr2]))  # for horizonally concatenate (method - 1)"
   ]
  },
  {
   "cell_type": "code",
   "execution_count": 17,
   "id": "bb487998",
   "metadata": {},
   "outputs": [
    {
     "name": "stdout",
     "output_type": "stream",
     "text": [
      "[[1 2 3]\n",
      " [4 5 6]\n",
      " [1 3 5]\n",
      " [7 8 9]]\n"
     ]
    }
   ],
   "source": [
    "print(np.vstack([arr1,arr2])) # vertical concatenation (method - 2)"
   ]
  },
  {
   "cell_type": "code",
   "execution_count": 24,
   "id": "255911d5",
   "metadata": {},
   "outputs": [
    {
     "name": "stdout",
     "output_type": "stream",
     "text": [
      "[array([1, 2]), array([3]), array([4])]\n",
      "\n",
      "\n",
      "[array([1, 2]), array([3, 4])]\n",
      "\n",
      "\n",
      "[array([1]), array([2]), array([3]), array([4])]\n"
     ]
    }
   ],
   "source": [
    "# for splitting the array we have \n",
    "\n",
    "arr1 = np.array([1,2,3,4])\n",
    "print(np.array_split(arr1,3))\n",
    "print(\"\\n\")\n",
    "print(np.array_split(arr1,2))\n",
    "print(\"\\n\")\n",
    "print(np.array_split(arr1,4))"
   ]
  },
  {
   "cell_type": "code",
   "execution_count": 37,
   "id": "71a92869",
   "metadata": {},
   "outputs": [
    {
     "name": "stdout",
     "output_type": "stream",
     "text": [
      "[array([[1, 2, 3]]), array([[4, 5, 6]])]\n",
      "\n",
      "\n",
      "[[4 5 6]]\n"
     ]
    }
   ],
   "source": [
    "arr1 = np.array([[1,2,3],[4,5,6]])\n",
    "b = np.array_split(arr1,2)\n",
    "print(b)\n",
    "print(\"\\n\")\n",
    "print(b[1]) # splitting the array forst and printing the index of splitted array (a,3) 3 here says how many parts"
   ]
  },
  {
   "cell_type": "code",
   "execution_count": null,
   "id": "9b325262",
   "metadata": {},
   "outputs": [],
   "source": []
  }
 ],
 "metadata": {
  "kernelspec": {
   "display_name": "Python 3 (ipykernel)",
   "language": "python",
   "name": "python3"
  },
  "language_info": {
   "codemirror_mode": {
    "name": "ipython",
    "version": 3
   },
   "file_extension": ".py",
   "mimetype": "text/x-python",
   "name": "python",
   "nbconvert_exporter": "python",
   "pygments_lexer": "ipython3",
   "version": "3.11.4"
  }
 },
 "nbformat": 4,
 "nbformat_minor": 5
}
