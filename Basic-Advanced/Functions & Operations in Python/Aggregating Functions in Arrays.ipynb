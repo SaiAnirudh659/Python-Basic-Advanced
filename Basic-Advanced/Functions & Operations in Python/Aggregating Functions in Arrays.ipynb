{
 "cells": [
  {
   "cell_type": "code",
   "execution_count": 1,
   "id": "8596669f",
   "metadata": {},
   "outputs": [
    {
     "name": "stdout",
     "output_type": "stream",
     "text": [
      "15\n"
     ]
    }
   ],
   "source": [
    "import numpy as np\n",
    "\n",
    "a = np.array([1,2,3,4])\n",
    "\n",
    "# to print the sum of the array for 1D array\n",
    "print(np.sum(a))"
   ]
  },
  {
   "cell_type": "code",
   "execution_count": 3,
   "id": "9fc967f9",
   "metadata": {},
   "outputs": [
    {
     "name": "stdout",
     "output_type": "stream",
     "text": [
      "1\n"
     ]
    }
   ],
   "source": [
    "a = np.array([1,2,3,4])\n",
    "\n",
    "# to print the minimum value from the array for 1D array\n",
    "print(np.min(a))"
   ]
  },
  {
   "cell_type": "code",
   "execution_count": 4,
   "id": "198ec94b",
   "metadata": {},
   "outputs": [
    {
     "name": "stdout",
     "output_type": "stream",
     "text": [
      "4\n"
     ]
    }
   ],
   "source": [
    "# to print the maximum value from the array for 1D array\n",
    "print(np.max(a))"
   ]
  },
  {
   "cell_type": "code",
   "execution_count": 5,
   "id": "612c4bad",
   "metadata": {},
   "outputs": [
    {
     "name": "stdout",
     "output_type": "stream",
     "text": [
      "4\n"
     ]
    }
   ],
   "source": [
    "# to print the count of the array we use the function as (size) for 1D array\n",
    "\n",
    "print(np.size(a))"
   ]
  },
  {
   "cell_type": "code",
   "execution_count": 6,
   "id": "a134a9c8",
   "metadata": {},
   "outputs": [
    {
     "name": "stdout",
     "output_type": "stream",
     "text": [
      "2.5\n"
     ]
    }
   ],
   "source": [
    "# to print the mean, median & mode using the array for 1D array\n",
    " \n",
    "print(np.mean(a))"
   ]
  },
  {
   "cell_type": "code",
   "execution_count": 8,
   "id": "609b52be",
   "metadata": {},
   "outputs": [
    {
     "name": "stdout",
     "output_type": "stream",
     "text": [
      "[ 1  3  6 10]\n"
     ]
    }
   ],
   "source": [
    "print(np.cumsum(a)) # Cummilative sum for 1D array"
   ]
  },
  {
   "cell_type": "code",
   "execution_count": 9,
   "id": "3baea6d0",
   "metadata": {},
   "outputs": [
    {
     "name": "stdout",
     "output_type": "stream",
     "text": [
      "[ 1  2  6 24]\n"
     ]
    }
   ],
   "source": [
    "print(np.cumprod(a)) # Cummilative product for 1D array"
   ]
  },
  {
   "cell_type": "code",
   "execution_count": 17,
   "id": "eed9b116",
   "metadata": {},
   "outputs": [
    {
     "name": "stdout",
     "output_type": "stream",
     "text": [
      "10\n",
      "1\n",
      "4\n",
      "4\n",
      "2.5\n",
      "[ 1  3  6 10]\n",
      "[ 1  2  6 24]\n"
     ]
    }
   ],
   "source": [
    "# now the same funtions used above but now with 2D array\n",
    "\n",
    "a = np.array([[1,2],[3,4]])\n",
    "\n",
    "print(np.sum(a))\n",
    "print(np.min(a))\n",
    "print(np.max(a))\n",
    "print(np.size(a))\n",
    "print(np.mean(a))\n",
    "print(np.cumsum(a))\n",
    "print(np.cumprod(a))"
   ]
  },
  {
   "cell_type": "code",
   "execution_count": 29,
   "id": "f634c353",
   "metadata": {},
   "outputs": [
    {
     "name": "stdout",
     "output_type": "stream",
     "text": [
      "[100 150 199 200 250 130] \n",
      " [10 50 30 40 30 10]\n",
      "\n",
      "[[ 100  150  199  200  250  130]\n",
      " [1000 7500 5970 8000 7500 1300]]\n",
      "\n",
      "31270\n"
     ]
    }
   ],
   "source": [
    "a = [100,150,199,200,250,130]\n",
    "b = [10,50,30,40,30,10]\n",
    "\n",
    "price = np. array(a)\n",
    "quantity = np. array (b)\n",
    "\n",
    "print (price,\"\\n\",quantity)\n",
    "print()\n",
    "\n",
    "c = np.cumprod([price, quantity],axis = 0)\n",
    "\n",
    "print(c)\n",
    "print()\n",
    "print(c[1].sum())"
   ]
  },
  {
   "cell_type": "code",
   "execution_count": null,
   "id": "0bb3bd6f",
   "metadata": {},
   "outputs": [],
   "source": []
  }
 ],
 "metadata": {
  "kernelspec": {
   "display_name": "Python 3 (ipykernel)",
   "language": "python",
   "name": "python3"
  },
  "language_info": {
   "codemirror_mode": {
    "name": "ipython",
    "version": 3
   },
   "file_extension": ".py",
   "mimetype": "text/x-python",
   "name": "python",
   "nbconvert_exporter": "python",
   "pygments_lexer": "ipython3",
   "version": "3.11.4"
  }
 },
 "nbformat": 4,
 "nbformat_minor": 5
}
