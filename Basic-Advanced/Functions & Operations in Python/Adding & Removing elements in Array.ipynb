{
 "cells": [
  {
   "cell_type": "code",
   "execution_count": 12,
   "id": "11bd2dcd",
   "metadata": {},
   "outputs": [
    {
     "name": "stdout",
     "output_type": "stream",
     "text": [
      "Before appending the value to the array:  [1 2 3 4]\n",
      "\n",
      "\n",
      "after printing the value to the default array:  [1 2 3 4 5]\n"
     ]
    }
   ],
   "source": [
    "import numpy as np\n",
    "\n",
    "arr1 = np.array([1,2,3,4])\n",
    "print(\"Before appending the value to the array: \",arr1) # here it just prints the default arr1 value\n",
    "print(\"\\n\")\n",
    "# in here it appends 5 to arr1 in the last index and prints the total array\n",
    "print(\"after printing the value to the default array: \",np.append(arr1,5)) "
   ]
  },
  {
   "cell_type": "code",
   "execution_count": 18,
   "id": "85dd4742",
   "metadata": {},
   "outputs": [
    {
     "name": "stdout",
     "output_type": "stream",
     "text": [
      "[[1 2]\n",
      " [3 4]]\n",
      "\n",
      "\n",
      "after converting it & appending the value:  [1 2 3 4 6]\n"
     ]
    }
   ],
   "source": [
    "# in 2-D array\n",
    "#in 2D array first it converts 2D into 1D and appends the value to the array\n",
    "arr1 = np.array([[1,2],[3,4]])\n",
    "print(arr1)\n",
    "print(\"\\n\")\n",
    "print(\"after converting it & appending the value: \",np.append(arr1,6))"
   ]
  },
  {
   "cell_type": "code",
   "execution_count": 19,
   "id": "7a333986",
   "metadata": {},
   "outputs": [
    {
     "name": "stdout",
     "output_type": "stream",
     "text": [
      "[[1 2]\n",
      " [3 4]]\n",
      "\n",
      "\n",
      "after converting it & appending the value:  [1 2 3 4 6 7]\n"
     ]
    }
   ],
   "source": [
    "# in 2-D array\n",
    "#in 2D array first it converts 2D into 1D and appends the value to the array\n",
    "arr1 = np.array([[1,2],[3,4]])\n",
    "print(arr1)\n",
    "print(\"\\n\")\n",
    "print(\"after converting it & appending the value: \",np.append(arr1,[6,7]))"
   ]
  },
  {
   "cell_type": "code",
   "execution_count": 22,
   "id": "b923ac8a",
   "metadata": {},
   "outputs": [
    {
     "name": "stdout",
     "output_type": "stream",
     "text": [
      "[1 2 6 3 4]\n"
     ]
    }
   ],
   "source": [
    "# here it is inserting the given value into the 2nd index using the (np.insert) function (array,index,value)\n",
    "\n",
    "a = np.array([1,2,3,4])\n",
    "print(np.insert(a,2,6)) "
   ]
  },
  {
   "cell_type": "code",
   "execution_count": 24,
   "id": "1e1378bd",
   "metadata": {},
   "outputs": [
    {
     "name": "stdout",
     "output_type": "stream",
     "text": [
      "[1 2 6 7 3 4]\n"
     ]
    }
   ],
   "source": [
    "# here it is inserting the given value into the 2nd index using the (np.insert) function (array,index,value)\n",
    "\n",
    "a = np.array([[1,2],[3,4]])\n",
    "print(np.insert(a,2,[6,7])) "
   ]
  },
  {
   "cell_type": "code",
   "execution_count": 31,
   "id": "7327149e",
   "metadata": {},
   "outputs": [
    {
     "name": "stdout",
     "output_type": "stream",
     "text": [
      "[[1 2]]\n"
     ]
    }
   ],
   "source": [
    "# deletion\n",
    "a = np.array([[1,2],[3,4]])\n",
    "print(np.delete(a,1,axis = 0))"
   ]
  }
 ],
 "metadata": {
  "kernelspec": {
   "display_name": "Python 3 (ipykernel)",
   "language": "python",
   "name": "python3"
  },
  "language_info": {
   "codemirror_mode": {
    "name": "ipython",
    "version": 3
   },
   "file_extension": ".py",
   "mimetype": "text/x-python",
   "name": "python",
   "nbconvert_exporter": "python",
   "pygments_lexer": "ipython3",
   "version": "3.11.4"
  }
 },
 "nbformat": 4,
 "nbformat_minor": 5
}
